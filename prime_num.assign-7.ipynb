{
 "cells": [
  {
   "cell_type": "markdown",
   "metadata": {},
   "source": [
    "# 7.Write a function called primes that is given a number n and returns a list of the first n primes. Let the default value of n be 100."
   ]
  },
  {
   "cell_type": "code",
   "execution_count": 2,
   "metadata": {},
   "outputs": [
    {
     "name": "stdout",
     "output_type": "stream",
     "text": [
      "How many prime numbers you want: 100\n",
      "List of 100 prime numbers: \n",
      "[2, 3, 5, 7, 11, 13, 17, 19, 23, 29, 31, 37, 41, 43, 47, 53, 59, 61, 67, 71, 73, 79, 83, 89, 97, 101, 103, 107, 109, 113, 127, 131, 137, 139, 149, 151, 157, 163, 167, 173, 179, 181, 191, 193, 197, 199, 211, 223, 227, 229, 233, 239, 241, 251, 257, 263, 269, 271, 277, 281, 283, 293, 307, 311, 313, 317, 331, 337, 347, 349, 353, 359, 367, 373, 379, 383, 389, 397, 401, 409, 419, 421, 431, 433, 439, 443, 449, 457, 461, 463, 467, 479, 487, 491, 499, 503, 509, 521, 523, 541]\n"
     ]
    }
   ],
   "source": [
    "def prime_num(n):\n",
    "    while True:\n",
    "        n += 1 # initializes every integer till n\n",
    "        for i in range(2, n): # searches for prime number\n",
    "            if n % i == 0: # checks if a number is prime or not\n",
    "                break\n",
    "        else:\n",
    "            return n # returns prime number\n",
    "def primes(N):\n",
    "    n, count = 1,1\n",
    "    while count <= N: # runs loop till n\n",
    "        n = prime_num(n) # initializes the function \"prime_num\"\n",
    "        yield n # returns a generator\n",
    "        count += 1 # runs the loop every time by 1\n",
    "N = input(\"How many prime numbers you want: \")\n",
    "print 'List of', N, 'prime numbers: '\n",
    "l = [x for x in primes(N)] # stores prime numbers till n\n",
    "print l # returns all the prime numbers till n"
   ]
  },
  {
   "cell_type": "code",
   "execution_count": null,
   "metadata": {},
   "outputs": [],
   "source": []
  }
 ],
 "metadata": {
  "kernelspec": {
   "display_name": "Python 2",
   "language": "python",
   "name": "python2"
  },
  "language_info": {
   "codemirror_mode": {
    "name": "ipython",
    "version": 2
   },
   "file_extension": ".py",
   "mimetype": "text/x-python",
   "name": "python",
   "nbconvert_exporter": "python",
   "pygments_lexer": "ipython2",
   "version": "2.7.15"
  }
 },
 "nbformat": 4,
 "nbformat_minor": 2
}
