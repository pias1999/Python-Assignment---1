{
 "cells": [
  {
   "cell_type": "markdown",
   "metadata": {},
   "source": [
    "# 6.Write a function called matches that takes two strings as arguments and returns how many matches there are between the strings. A match is where the two strings have the same character at the same index. For instance, ' python ' and ' path ' match in the first, third, and fourth characters, so the function should return 3."
   ]
  },
  {
   "cell_type": "code",
   "execution_count": 8,
   "metadata": {},
   "outputs": [
    {
     "name": "stdout",
     "output_type": "stream",
     "text": [
      "Number of matched characters: 4\n"
     ]
    }
   ],
   "source": [
    "def matches(str_1, str_2): # function name\n",
    "  \n",
    "    # set(str_1): set of characters of first string\n",
    "    # set(str_2): set of characters of second string\n",
    "    \n",
    "    match = set(str_1) & set(str_2) # finds the matches between two strings  \n",
    "     \n",
    "    # prints the number of matched characters between the strings\n",
    "    print 'Number of matched characters: ' +str(len(match))\n",
    "\n",
    "matches('Robert','Hobart') # calling function with arguments"
   ]
  },
  {
   "cell_type": "markdown",
   "metadata": {},
   "source": [
    "Description:\n",
    "\n",
    "In this function we are taking two strings as arguments. They are named \"str_1\" and \"str_2\".\n",
    "\n",
    "Here, \"str_1 = Rowan\" and \"str_2 = Ronald\".\n",
    "\n",
    "\"set(str_1)\" makes a set of all the characters in \"str_1\" which is {R, o, b, e, r, t}.\n",
    "\n",
    "\"set(str_2)\" makes a set of all the characters in \"str_2 which is {H, o, b, a, r, t}.\n",
    "\n",
    "\"match = set(str_1) & set(str_2)\" finds the matches between the strings and stores them in \"match\" variable.\n",
    "\n",
    "\"+str(len(match))\" calculates the total number of matches and prints them."
   ]
  }
 ],
 "metadata": {
  "kernelspec": {
   "display_name": "Python 2",
   "language": "python",
   "name": "python2"
  },
  "language_info": {
   "codemirror_mode": {
    "name": "ipython",
    "version": 2
   },
   "file_extension": ".py",
   "mimetype": "text/x-python",
   "name": "python",
   "nbconvert_exporter": "python",
   "pygments_lexer": "ipython2",
   "version": "2.7.15"
  }
 },
 "nbformat": 4,
 "nbformat_minor": 2
}
