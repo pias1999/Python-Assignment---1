{
 "cells": [
  {
   "cell_type": "markdown",
   "metadata": {},
   "source": [
    "#  5.Write a function that takes an integer n and returns a random integer with exactly n digits. For instance, if n is 3, then 125 and 593 would be valid return values, but 093 would not because that is really 93, which is a two-digit number."
   ]
  },
  {
   "cell_type": "code",
   "execution_count": 5,
   "metadata": {},
   "outputs": [
    {
     "name": "stdout",
     "output_type": "stream",
     "text": [
      "Enter the length of the integer: 3\n",
      "\n",
      "Here is a  3 digit random number: \n"
     ]
    },
    {
     "data": {
      "text/plain": [
       "954"
      ]
     },
     "execution_count": 5,
     "metadata": {},
     "output_type": "execute_result"
    }
   ],
   "source": [
    "from random import randint # to generate random integer\n",
    "\n",
    "def random_num():\n",
    "    n = input(\"Enter the length of the integer: \") # input of the length of the integer\n",
    "    \n",
    "    start = 10 ** (n - 1) # starting point of n digit numbers\n",
    "    end = (10 ** n) - 1 # end point of n digit numbers\n",
    "    print '\\nHere is a ', n, 'digit random number: '\n",
    "    return randint(start, end) # returns a random number\n",
    "\n",
    "random_num()"
   ]
  },
  {
   "cell_type": "markdown",
   "metadata": {},
   "source": [
    "Description:\n",
    "\n",
    "Here, we use \"randint\" function from random module to generate a random number.\n",
    "\n",
    "Then we take an input of the length of the integer.\n",
    "\n",
    "Here, \"start = 10 ** (n - 1)\" means the starting point of n digit integers.\n",
    "\n",
    "and, \"end = (10 ** n) - 1\" means the ending point of n digit integers.\n",
    "\n",
    "If we input 3 that means the 3 digit integer length starts at 100 and ends at 999.\n",
    "\n",
    "Then \"return randint(start, end)\" generates a random 3 digit integers and prints that integer."
   ]
  }
 ],
 "metadata": {
  "kernelspec": {
   "display_name": "Python 2",
   "language": "python",
   "name": "python2"
  },
  "language_info": {
   "codemirror_mode": {
    "name": "ipython",
    "version": 2
   },
   "file_extension": ".py",
   "mimetype": "text/x-python",
   "name": "python",
   "nbconvert_exporter": "python",
   "pygments_lexer": "ipython2",
   "version": "2.7.15"
  }
 },
 "nbformat": 4,
 "nbformat_minor": 2
}
