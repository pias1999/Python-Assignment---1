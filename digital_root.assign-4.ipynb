{
 "cells": [
  {
   "cell_type": "markdown",
   "metadata": {},
   "source": [
    "# 4.The digital root of a number n is obtained as follows: Add up the digits n to get a new number. Add up the digits of that to get another new number. Keep doing this until you get a number that has only one digit. That number is the digital root. For example, if n = 45893 , we add up the digits to get 4 + 5 + 8 + 9 + 3 = 29 . We then add up the digits of 29 to get 2 + 9 = 11 . We then add up the digits of 11 to get 1 + 1 = 2 . Since 2 has only one digit, 2 is our digital root. Write a function that returns the digital root of an integer n . [Note: there is a shortcut, where the digital root is equal to n mod 9, but do not use that here.]"
   ]
  },
  {
   "cell_type": "code",
   "execution_count": 19,
   "metadata": {},
   "outputs": [
    {
     "name": "stdout",
     "output_type": "stream",
     "text": [
      "Enter an integer: 25371\n",
      "Digital Root is:  9\n"
     ]
    }
   ],
   "source": [
    "def digi_root(): # function name\n",
    "    \n",
    "    n = input(\"Enter an integer: \") # takes input of the integer \n",
    "    sum = 0\n",
    "    while(n > 0 or sum > 9): # to find digital root, input must be greater than zero \n",
    "                             # and the sum of the digits must be greater than 9\n",
    "            \n",
    "        if(n == 0): # if input is 0, sum will be 0\n",
    "            n = sum\n",
    "            sum = 0\n",
    "        # if input is grater than 0\n",
    "        else:\n",
    "            sum = sum + (n % 10)\n",
    "            n = n / 10\n",
    "    \n",
    "    print \"Digital Root is: \", sum\n",
    "\n",
    "digi_root() # calling function"
   ]
  },
  {
   "cell_type": "markdown",
   "metadata": {},
   "source": [
    "Description:\n",
    "\n",
    "Here n = 25371 is the given integer. First, we add digits of this integer(2+5+3+7+1 = 18). Then, each of the digits of 18 is added (1+8 = 9). Then, the outcome 9 is a single digit. So, it is the digital root.\n",
    "\n",
    "Calculation:\n",
    "\n",
    "sum = (25371 % 10) = 1\n",
    "\n",
    "n = (25371 / 10) = 2537\n",
    "\n",
    "sum = 1 + (2537 % 10) = 8\n",
    "\n",
    "n = (2537 / 10) = 253\n",
    "\n",
    "sum = 8 + (253 % 10) = 11\n",
    "\n",
    "n = (253 / 10) = 25\n",
    "\n",
    "sum = 11 + (25 % 10) = 16\n",
    "\n",
    "n = (25 / 10) = 2\n",
    "\n",
    "sum = 16 + (2 % 10) = 18\n",
    "\n",
    "n = (2 / 10) = 0\n",
    "\n",
    "sum = 18 + (0 % 10) = 18\n",
    "\n",
    "n = (0 / 10) = 0\n",
    "\n",
    "Therefore,the Sum of Digits is 2+5+3+7+1 = 18 then 1+8 = 9. Here 9 is a single digit that is lower than 10, so the function stops calling and returns the output which is 9."
   ]
  }
 ],
 "metadata": {
  "kernelspec": {
   "display_name": "Python 2",
   "language": "python",
   "name": "python2"
  },
  "language_info": {
   "codemirror_mode": {
    "name": "ipython",
    "version": 2
   },
   "file_extension": ".py",
   "mimetype": "text/x-python",
   "name": "python",
   "nbconvert_exporter": "python",
   "pygments_lexer": "ipython2",
   "version": "2.7.15"
  }
 },
 "nbformat": 4,
 "nbformat_minor": 2
}
