{
 "cells": [
  {
   "cell_type": "markdown",
   "metadata": {},
   "source": [
    "#  8.Recall that if s is a string, then s.find( ' a ' ) will find the location of the first a in s . The problem is that it does not find the location of every a. Write a function called findall that given a string and a single character, returns a list containing all of the locations of that character in the string. It should return an empty list if there are no occurrences of the character in the string."
   ]
  },
  {
   "cell_type": "code",
   "execution_count": 5,
   "metadata": {},
   "outputs": [
    {
     "name": "stdout",
     "output_type": "stream",
     "text": [
      "Enter a string: My name is ashikuzzaman pias\n",
      "All the locations of a are:  4 11 19 21 26\n"
     ]
    }
   ],
   "source": [
    "def findall(): # function name\n",
    "    s = raw_input(\"Enter a string: \") # takes a string\n",
    "    ch_loc = -1 \n",
    "    print 'All the locations of a are: ',\n",
    "    while True:\n",
    "        ch_loc = s.find('a', ch_loc + 1) # s.find() is used to search \"a\" in a string \n",
    "                                         # find() is used to search in a string\n",
    "            \n",
    "        if ch_loc == -1: # when no \"a\" is found in the string\n",
    "            break        # ends the program and returns empty list\n",
    "        else:            # when \"a\" is found in the string\n",
    "            yield ch_loc # returns a generator\n",
    "            \n",
    "for ch_loc in findall(): # runs for all the the locations of \"a\" in findall()\n",
    "    print (ch_loc), # returns all the locations of \"a\""
   ]
  },
  {
   "cell_type": "markdown",
   "metadata": {},
   "source": [
    "Description:\n",
    "\n",
    "This function finds all the locations of \"a\" in a string.\n",
    "\n",
    "Here \"s.find' is used to find the locations of \"a\" in a string.\n",
    "\n",
    "If no \"a\" is found in a string, it returns an empty list.\n",
    "\n",
    "\"yield\" has been used as a generator that initializes whenever a location of \"a\" is found."
   ]
  }
 ],
 "metadata": {
  "kernelspec": {
   "display_name": "Python 2",
   "language": "python",
   "name": "python2"
  },
  "language_info": {
   "codemirror_mode": {
    "name": "ipython",
    "version": 2
   },
   "file_extension": ".py",
   "mimetype": "text/x-python",
   "name": "python",
   "nbconvert_exporter": "python",
   "pygments_lexer": "ipython2",
   "version": "2.7.15"
  }
 },
 "nbformat": 4,
 "nbformat_minor": 2
}
