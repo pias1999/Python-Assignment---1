{
 "cells": [
  {
   "cell_type": "markdown",
   "metadata": {},
   "source": [
    "#  1.Write a function called rectangle that takes two integers m and n as arguments and prints out an m × n box consisting of asterisks."
   ]
  },
  {
   "cell_type": "code",
   "execution_count": 1,
   "metadata": {},
   "outputs": [
    {
     "name": "stdout",
     "output_type": "stream",
     "text": [
      "* * * * * * * * * * \n",
      "* * * * * * * * * * \n",
      "* * * * * * * * * * \n",
      "* * * * * * * * * * \n",
      "* * * * * * * * * * \n",
      "* * * * * * * * * * \n"
     ]
    }
   ],
   "source": [
    "def rectangle(m, n): # m is number of rows and n is number of coloumns \n",
    "\n",
    "    for i in range(m): # running loop to inialize rows\n",
    "        for j in range(n): # running loop to inialize columns\n",
    "            print(\"*\"),\n",
    "        print(\"\")\n",
    "\n",
    "rectangle(6,10)"
   ]
  },
  {
   "cell_type": "markdown",
   "metadata": {},
   "source": [
    "# 2.Write a function called add_excitement that takes a list of strings and adds an exclamation point ( ! ) to the end of each string in the list. The program should modify the original list and not return anything."
   ]
  },
  {
   "cell_type": "code",
   "execution_count": 3,
   "metadata": {},
   "outputs": [
    {
     "name": "stdout",
     "output_type": "stream",
     "text": [
      "Enter string: Hello! I am Ashikuzzaman!\n",
      "Hello I am Ashikuzzaman\n"
     ]
    }
   ],
   "source": [
    "def add_exitement():\n",
    "    punctuations = \"!\"\n",
    "    str = raw_input(\"Enter string: \") # takes input from the user\n",
    "\n",
    "    # removes punctuation from the string\n",
    "    no_punct = \"\"\n",
    "    for char in str:\n",
    "        if char not in punctuations:\n",
    "            no_punct = no_punct + char\n",
    "\n",
    "    print(no_punct) # displays the unpunctuated string\n",
    "\n",
    "add_exitement() # calling function"
   ]
  },
  {
   "cell_type": "markdown",
   "metadata": {},
   "source": [
    "# 3.Write the same function except that it should not modify the original list and should instead return a new list."
   ]
  },
  {
   "cell_type": "code",
   "execution_count": 4,
   "metadata": {},
   "outputs": [
    {
     "name": "stdout",
     "output_type": "stream",
     "text": [
      "Enter string: Hello! I am Ashikuzzaman!\n",
      "\n",
      "New String:\n"
     ]
    },
    {
     "data": {
      "text/plain": [
       "'Hello! I am Ashikuzzaman!'"
      ]
     },
     "execution_count": 4,
     "metadata": {},
     "output_type": "execute_result"
    }
   ],
   "source": [
    "def add_exitement():\n",
    "    \n",
    "    str = raw_input(\"Enter string: \") # takes a string as input\n",
    "   \n",
    "    print '\\nNew String:'\n",
    "    return str # returns the string\n",
    "\n",
    "add_exitement() # calling function"
   ]
  },
  {
   "cell_type": "markdown",
   "metadata": {},
   "source": [
    "# 4.The digital root of a number n is obtained as follows: Add up the digits n to get a new number. Add up the digits of that to get another new number. Keep doing this until you get a number that has only one digit. That number is the digital root. For example, if n = 45893 , we add up the digits to get 4 + 5 + 8 + 9 + 3 = 29 . We then add up the digits of 29 to get 2 + 9 = 11 . We then add up the digits of 11 to get 1 + 1 = 2 . Since 2 has only one digit, 2 is our digital root. Write a function that returns the digital root of an integer n . [Note: there is a shortcut, where the digital root is equal to n mod 9, but do not use that here.]"
   ]
  },
  {
   "cell_type": "code",
   "execution_count": 5,
   "metadata": {},
   "outputs": [
    {
     "name": "stdout",
     "output_type": "stream",
     "text": [
      "Enter an integer: 25371\n",
      "Digital Root is:  9\n"
     ]
    }
   ],
   "source": [
    "def digi_root():\n",
    "    \n",
    "    n = input(\"Enter an integer: \")\n",
    "    sum = 0\n",
    "    while(n > 0 or sum > 9): # to find digital root, input must be greater than zero \n",
    "                             # and the sum of the digits must be greater than 9\n",
    "            \n",
    "        if(n == 0): # if input is 0, sum will be 0\n",
    "            n = sum\n",
    "            sum = 0\n",
    "        # if input is grater than 0\n",
    "        else:\n",
    "            sum = sum + (n % 10)\n",
    "            n = n / 10\n",
    "    \n",
    "    print \"Digital Root is: \", sum\n",
    "\n",
    "digi_root()"
   ]
  },
  {
   "cell_type": "markdown",
   "metadata": {},
   "source": [
    "Description:\n",
    "\n",
    "Here n = 25371 is the given integer. First, we add digits of this integer(2+5+3+7+1=18). Then, each of the digits of 18 is added (1+8=9). The the outcome nine is a single digit. So, it is the digital root.\n",
    "\n",
    "Calculation:\n",
    "\n",
    "sum = (25371 % 10) = 1\n",
    "\n",
    "n = (25371 / 10) = 2537\n",
    "\n",
    "sum = 1 + (2537 % 10) = 8\n",
    "\n",
    "n = (2537 / 10) = 253\n",
    "\n",
    "sum = 8 + (253 % 10) = 11\n",
    "\n",
    "n = (253 / 10) = 25\n",
    "\n",
    "sum = 11 + (25 % 10) = 16\n",
    "\n",
    "n = (25 / 10) = 2\n",
    "\n",
    "sum = 16 + (2 % 10) = 18\n",
    "\n",
    "n = (2 / 10) = 0\n",
    "\n",
    "sum = 18 + (0 % 10) = 18\n",
    "\n",
    "n = (0 / 10) = 0\n",
    "\n",
    "Therefore,the Sum of Digits is 2+5+3+7+1 = 18 then 1+8 = 9. Here 9 is a single digit that is lower than 10, so the function stops calling and returns the output which is 9."
   ]
  },
  {
   "cell_type": "markdown",
   "metadata": {},
   "source": [
    "# 5.Write a function that takes an integer n and returns a random integer with exactly n digits. For instance, if n is 3, then 125 and 593 would be valid return values, but 093 would not because that is really 93, which is a two-digit number."
   ]
  },
  {
   "cell_type": "code",
   "execution_count": 6,
   "metadata": {},
   "outputs": [
    {
     "name": "stdout",
     "output_type": "stream",
     "text": [
      "Enter the length of the integer: 3\n",
      "\n",
      "Here is a  3 digit random number: \n"
     ]
    },
    {
     "data": {
      "text/plain": [
       "692"
      ]
     },
     "execution_count": 6,
     "metadata": {},
     "output_type": "execute_result"
    }
   ],
   "source": [
    "from random import randint # to generate random integer\n",
    "\n",
    "def random_num():\n",
    "    n = input(\"Enter the length of the integer: \") # input of the length of the integer\n",
    "    \n",
    "    start = 10 ** (n - 1) # starting point of n digit numbers\n",
    "    end = (10 ** n) - 1 # end point of n digit numbers\n",
    "    print '\\nHere is a ', n, 'digit random number: '\n",
    "    return randint(start, end) # returns a random number\n",
    "\n",
    "random_num()"
   ]
  },
  {
   "cell_type": "markdown",
   "metadata": {},
   "source": [
    "Description:\n",
    "\n",
    "Here, we use \"randint\" function from random module to generate a random number.\n",
    "\n",
    "Then we take an input of the length of the integer.\n",
    "\n",
    "Here, \"start = 10 ** (n - 1)\" means the starting point of n digit integers.\n",
    "\n",
    "and, \"end = (10 ** n) - 1\" means the ending point of n digit integers.\n",
    "\n",
    "If we input 3 that means the 3 digit integer length stars at 100 and ends at 999.\n",
    "\n",
    "Then \"return randint(start, end)\" generates a random 3 digit integers and prints that integer."
   ]
  },
  {
   "cell_type": "markdown",
   "metadata": {},
   "source": [
    "# 6.Write a function called matches that takes two strings as arguments and returns how many matches there are between the strings. A match is where the two strings have the same character at the same index. For instance, ' python ' and ' path ' match in the first, third, and fourth characters, so the function should return 3."
   ]
  },
  {
   "cell_type": "code",
   "execution_count": 7,
   "metadata": {},
   "outputs": [
    {
     "name": "stdout",
     "output_type": "stream",
     "text": [
      "Number of matched characters: 4\n"
     ]
    }
   ],
   "source": [
    "def matches(str_1, str_2): # function name\n",
    "  \n",
    "    # set(str_1): set of characters of first string\n",
    "    # set(str_2): set of characters of second string\n",
    "    \n",
    "    match = set(str_1) & set(str_2) # finds the matches between two strings  \n",
    "     \n",
    "    # prints the number of matched characters between the strings\n",
    "    print 'Number of matched characters: ' +str(len(match))\n",
    "\n",
    "matches('Robert','Hobart') # calling function with arguments"
   ]
  },
  {
   "cell_type": "markdown",
   "metadata": {},
   "source": [
    "Description:\n",
    "\n",
    "In this function we are taking two strings as arguments. They are named \"str_1\" and \"str_2\".\n",
    "\n",
    "Here, \"str_1 = Rowan\" and \"str_2 = Ronald\".\n",
    "\n",
    "\"set(str_1)\" makes a set of all the characters in \"str_1\" which is {R, o, b, e, r, t}.\n",
    "\n",
    "\"set(str_2)\" makes a set of all the characters in \"str_2 which is {H, o, b, a, r, t}.\n",
    "\n",
    "\"match = set(str_1) & set(str_2)\" finds the matches between the strings and stores them in \"match\" variable.\n",
    "\n",
    "\"+str(len(match))\" calculates the total number of matches and prints them."
   ]
  },
  {
   "cell_type": "markdown",
   "metadata": {},
   "source": [
    "# 7.Write a function called primes that is given a number n and returns a list of the first n primes. Let the default value of n be 100."
   ]
  },
  {
   "cell_type": "code",
   "execution_count": 8,
   "metadata": {},
   "outputs": [
    {
     "name": "stdout",
     "output_type": "stream",
     "text": [
      "How many prime numbers you want: 100\n",
      "List of 100 prime numbers: \n",
      "[2, 3, 5, 7, 11, 13, 17, 19, 23, 29, 31, 37, 41, 43, 47, 53, 59, 61, 67, 71, 73, 79, 83, 89, 97, 101, 103, 107, 109, 113, 127, 131, 137, 139, 149, 151, 157, 163, 167, 173, 179, 181, 191, 193, 197, 199, 211, 223, 227, 229, 233, 239, 241, 251, 257, 263, 269, 271, 277, 281, 283, 293, 307, 311, 313, 317, 331, 337, 347, 349, 353, 359, 367, 373, 379, 383, 389, 397, 401, 409, 419, 421, 431, 433, 439, 443, 449, 457, 461, 463, 467, 479, 487, 491, 499, 503, 509, 521, 523, 541]\n"
     ]
    }
   ],
   "source": [
    "def prime_num(n):\n",
    "    while True:\n",
    "        n += 1 # initializes every integer till n\n",
    "        for i in range(2, n): # searches for prime number\n",
    "            if n % i == 0: # checks if a number is prime or not\n",
    "                break\n",
    "        else:\n",
    "            return n # returns prime number\n",
    "def primes(N):\n",
    "    n, count = 1,1\n",
    "    while count <= N: # runs loop till n\n",
    "        n = prime_num(n) # initializes the function \"prime_num\"\n",
    "        yield n # returns a generator\n",
    "        count += 1 # runs the loop every time by 1\n",
    "N = input(\"How many prime numbers you want: \")\n",
    "print 'List of', N, 'prime numbers: '\n",
    "l = [x for x in primes(N)] # stores prime numbers till n\n",
    "print l # returns all the prime numbers till n"
   ]
  },
  {
   "cell_type": "markdown",
   "metadata": {},
   "source": [
    "# 8.Recall that if s is a string, then s.find( ' a ' ) will find the location of the first a in s . The problem is that it does not find the location of every a. Write a function called findall that given a string and a single character, returns a list containing all of the locations of that character in the string. It should return an empty list if there are no occurrences of the character in the string."
   ]
  },
  {
   "cell_type": "code",
   "execution_count": 9,
   "metadata": {},
   "outputs": [
    {
     "name": "stdout",
     "output_type": "stream",
     "text": [
      "Enter a string: My name is ashikuzzaman pias\n",
      "All the locations of a are:  4 11 19 21 26\n"
     ]
    }
   ],
   "source": [
    "def findall(): # function name\n",
    "    s = raw_input(\"Enter a string: \") # takes a string\n",
    "    ch_loc = -1 \n",
    "    print 'All the locations of a are: ',\n",
    "    while True:\n",
    "        ch_loc = s.find('a', ch_loc + 1) # s.find() is used to search \"a\" in a string \n",
    "                                         # find() is used to search in a string\n",
    "            \n",
    "        if ch_loc == -1: # when no \"a\" is found in the string\n",
    "            break        # ends the program and returns empty list\n",
    "        else:            # when \"a\" is found in the string\n",
    "            yield ch_loc # returns a generator\n",
    "            \n",
    "for ch_loc in findall(): # runs for all the the locations of \"a\" in findall()\n",
    "    print (ch_loc), # returns all the locations of \"a\""
   ]
  },
  {
   "cell_type": "markdown",
   "metadata": {},
   "source": [
    "Description:\n",
    "\n",
    "This function finds all the locations of \"a\" in a string.\n",
    "\n",
    "Here \"s.find' is used to find the locations of \"a\" in a string.\n",
    "\n",
    "If no \"a\" is found in a string, it returns an empty list.\n",
    "\n",
    "\"yield\" has been used as a generator that initializes whenever a location of \"a\" is found."
   ]
  },
  {
   "cell_type": "code",
   "execution_count": null,
   "metadata": {},
   "outputs": [],
   "source": []
  }
 ],
 "metadata": {
  "kernelspec": {
   "display_name": "Python 2",
   "language": "python",
   "name": "python2"
  },
  "language_info": {
   "codemirror_mode": {
    "name": "ipython",
    "version": 2
   },
   "file_extension": ".py",
   "mimetype": "text/x-python",
   "name": "python",
   "nbconvert_exporter": "python",
   "pygments_lexer": "ipython2",
   "version": "2.7.15"
  }
 },
 "nbformat": 4,
 "nbformat_minor": 2
}
